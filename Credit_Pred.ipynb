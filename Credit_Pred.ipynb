{
 "cells": [
  {
   "cell_type": "code",
   "execution_count": 41,
   "id": "655ccef1",
   "metadata": {},
   "outputs": [],
   "source": [
    "import pandas as pd\n",
    "import numpy as np"
   ]
  },
  {
   "cell_type": "code",
   "execution_count": 10,
   "id": "66cebe52",
   "metadata": {},
   "outputs": [],
   "source": [
    "train=pd.read_csv('train_credit.csv',index_col='Unnamed: 0')"
   ]
  },
  {
   "cell_type": "code",
   "execution_count": 11,
   "id": "67cdf877",
   "metadata": {},
   "outputs": [
    {
     "data": {
      "text/html": [
       "<div>\n",
       "<style scoped>\n",
       "    .dataframe tbody tr th:only-of-type {\n",
       "        vertical-align: middle;\n",
       "    }\n",
       "\n",
       "    .dataframe tbody tr th {\n",
       "        vertical-align: top;\n",
       "    }\n",
       "\n",
       "    .dataframe thead th {\n",
       "        text-align: right;\n",
       "    }\n",
       "</style>\n",
       "<table border=\"1\" class=\"dataframe\">\n",
       "  <thead>\n",
       "    <tr style=\"text-align: right;\">\n",
       "      <th></th>\n",
       "      <th>Income_log</th>\n",
       "      <th>Limit_log</th>\n",
       "      <th>Rating_log</th>\n",
       "      <th>Student_Yes</th>\n",
       "      <th>Cards</th>\n",
       "      <th>Credit</th>\n",
       "    </tr>\n",
       "  </thead>\n",
       "  <tbody>\n",
       "    <tr>\n",
       "      <th>336</th>\n",
       "      <td>0.034777</td>\n",
       "      <td>0.609488</td>\n",
       "      <td>0.655032</td>\n",
       "      <td>0</td>\n",
       "      <td>0.761194</td>\n",
       "      <td>926</td>\n",
       "    </tr>\n",
       "    <tr>\n",
       "      <th>64</th>\n",
       "      <td>0.066451</td>\n",
       "      <td>-0.733937</td>\n",
       "      <td>-0.843516</td>\n",
       "      <td>0</td>\n",
       "      <td>-0.699130</td>\n",
       "      <td>0</td>\n",
       "    </tr>\n",
       "    <tr>\n",
       "      <th>55</th>\n",
       "      <td>0.032069</td>\n",
       "      <td>-1.492181</td>\n",
       "      <td>-1.557071</td>\n",
       "      <td>0</td>\n",
       "      <td>-0.699130</td>\n",
       "      <td>0</td>\n",
       "    </tr>\n",
       "    <tr>\n",
       "      <th>106</th>\n",
       "      <td>1.099684</td>\n",
       "      <td>-1.869456</td>\n",
       "      <td>-2.071941</td>\n",
       "      <td>0</td>\n",
       "      <td>-0.699130</td>\n",
       "      <td>0</td>\n",
       "    </tr>\n",
       "    <tr>\n",
       "      <th>300</th>\n",
       "      <td>0.670954</td>\n",
       "      <td>0.104645</td>\n",
       "      <td>0.159194</td>\n",
       "      <td>0</td>\n",
       "      <td>-1.429291</td>\n",
       "      <td>580</td>\n",
       "    </tr>\n",
       "  </tbody>\n",
       "</table>\n",
       "</div>"
      ],
      "text/plain": [
       "     Income_log  Limit_log  Rating_log  Student_Yes     Cards  Credit\n",
       "336    0.034777   0.609488    0.655032            0  0.761194     926\n",
       "64     0.066451  -0.733937   -0.843516            0 -0.699130       0\n",
       "55     0.032069  -1.492181   -1.557071            0 -0.699130       0\n",
       "106    1.099684  -1.869456   -2.071941            0 -0.699130       0\n",
       "300    0.670954   0.104645    0.159194            0 -1.429291     580"
      ]
     },
     "execution_count": 11,
     "metadata": {},
     "output_type": "execute_result"
    }
   ],
   "source": [
    "train.head()"
   ]
  },
  {
   "cell_type": "code",
   "execution_count": 12,
   "id": "bea02539",
   "metadata": {},
   "outputs": [],
   "source": [
    "test=pd.read_csv('test_credit.csv',index_col='Unnamed: 0')"
   ]
  },
  {
   "cell_type": "code",
   "execution_count": 13,
   "id": "83545755",
   "metadata": {},
   "outputs": [
    {
     "data": {
      "text/html": [
       "<div>\n",
       "<style scoped>\n",
       "    .dataframe tbody tr th:only-of-type {\n",
       "        vertical-align: middle;\n",
       "    }\n",
       "\n",
       "    .dataframe tbody tr th {\n",
       "        vertical-align: top;\n",
       "    }\n",
       "\n",
       "    .dataframe thead th {\n",
       "        text-align: right;\n",
       "    }\n",
       "</style>\n",
       "<table border=\"1\" class=\"dataframe\">\n",
       "  <thead>\n",
       "    <tr style=\"text-align: right;\">\n",
       "      <th></th>\n",
       "      <th>Income_log</th>\n",
       "      <th>Limit_log</th>\n",
       "      <th>Rating_log</th>\n",
       "      <th>Student_Yes</th>\n",
       "      <th>Cards</th>\n",
       "      <th>Credit</th>\n",
       "    </tr>\n",
       "  </thead>\n",
       "  <tbody>\n",
       "    <tr>\n",
       "      <th>132</th>\n",
       "      <td>0.564428</td>\n",
       "      <td>0.439814</td>\n",
       "      <td>0.478606</td>\n",
       "      <td>0</td>\n",
       "      <td>0.761194</td>\n",
       "      <td>912</td>\n",
       "    </tr>\n",
       "    <tr>\n",
       "      <th>309</th>\n",
       "      <td>-1.097900</td>\n",
       "      <td>1.010506</td>\n",
       "      <td>0.951834</td>\n",
       "      <td>0</td>\n",
       "      <td>0.031032</td>\n",
       "      <td>885</td>\n",
       "    </tr>\n",
       "    <tr>\n",
       "      <th>341</th>\n",
       "      <td>1.517457</td>\n",
       "      <td>-0.219284</td>\n",
       "      <td>-0.225695</td>\n",
       "      <td>0</td>\n",
       "      <td>-0.699130</td>\n",
       "      <td>426</td>\n",
       "    </tr>\n",
       "    <tr>\n",
       "      <th>196</th>\n",
       "      <td>-1.358463</td>\n",
       "      <td>1.139586</td>\n",
       "      <td>1.066616</td>\n",
       "      <td>0</td>\n",
       "      <td>-1.429291</td>\n",
       "      <td>749</td>\n",
       "    </tr>\n",
       "    <tr>\n",
       "      <th>246</th>\n",
       "      <td>0.844444</td>\n",
       "      <td>-0.581458</td>\n",
       "      <td>-0.485902</td>\n",
       "      <td>0</td>\n",
       "      <td>0.761194</td>\n",
       "      <td>199</td>\n",
       "    </tr>\n",
       "  </tbody>\n",
       "</table>\n",
       "</div>"
      ],
      "text/plain": [
       "     Income_log  Limit_log  Rating_log  Student_Yes     Cards  Credit\n",
       "132    0.564428   0.439814    0.478606            0  0.761194     912\n",
       "309   -1.097900   1.010506    0.951834            0  0.031032     885\n",
       "341    1.517457  -0.219284   -0.225695            0 -0.699130     426\n",
       "196   -1.358463   1.139586    1.066616            0 -1.429291     749\n",
       "246    0.844444  -0.581458   -0.485902            0  0.761194     199"
      ]
     },
     "execution_count": 13,
     "metadata": {},
     "output_type": "execute_result"
    }
   ],
   "source": [
    "test.head()"
   ]
  },
  {
   "cell_type": "code",
   "execution_count": 42,
   "id": "1086b328",
   "metadata": {},
   "outputs": [],
   "source": [
    "x_train=train.drop('Credit',axis=1)\n",
    "x_train=np.array(x_train)"
   ]
  },
  {
   "cell_type": "code",
   "execution_count": 17,
   "id": "2e795e15",
   "metadata": {},
   "outputs": [],
   "source": [
    "y_train=train['Credit']"
   ]
  },
  {
   "cell_type": "code",
   "execution_count": 44,
   "id": "664b57b4",
   "metadata": {},
   "outputs": [],
   "source": [
    "y_train=np.array(y_train)"
   ]
  },
  {
   "cell_type": "code",
   "execution_count": 18,
   "id": "42158521",
   "metadata": {},
   "outputs": [],
   "source": [
    "x_test=test.drop('Credit',axis=1)"
   ]
  },
  {
   "cell_type": "code",
   "execution_count": 45,
   "id": "28724f05",
   "metadata": {},
   "outputs": [],
   "source": [
    "x_test=np.array(x_test)"
   ]
  },
  {
   "cell_type": "code",
   "execution_count": 19,
   "id": "f013b848",
   "metadata": {},
   "outputs": [],
   "source": [
    "y_test=test['Credit']"
   ]
  },
  {
   "cell_type": "code",
   "execution_count": 46,
   "id": "5cf8745a",
   "metadata": {},
   "outputs": [],
   "source": [
    "y_test=np.array(y_test)"
   ]
  },
  {
   "cell_type": "code",
   "execution_count": 47,
   "id": "617729d1",
   "metadata": {},
   "outputs": [],
   "source": [
    "import xgboost"
   ]
  },
  {
   "cell_type": "code",
   "execution_count": 48,
   "id": "1b9e99f8",
   "metadata": {},
   "outputs": [],
   "source": [
    "model_xg=xgboost.XGBRegressor(min_child_weight= 5,\n",
    "                                 max_depth= 4,\n",
    "                                 learning_rate= 0.05,\n",
    "                                 gamma= 0.0,\n",
    "                                 colsample_bytree= 0.7)"
   ]
  },
  {
   "cell_type": "code",
   "execution_count": 49,
   "id": "d40451ec",
   "metadata": {},
   "outputs": [
    {
     "data": {
      "text/plain": [
       "XGBRegressor(base_score=0.5, booster='gbtree', colsample_bylevel=1,\n",
       "             colsample_bynode=1, colsample_bytree=0.7, enable_categorical=False,\n",
       "             gamma=0.0, gpu_id=-1, importance_type=None,\n",
       "             interaction_constraints='', learning_rate=0.05, max_delta_step=0,\n",
       "             max_depth=4, min_child_weight=5, missing=nan,\n",
       "             monotone_constraints='()', n_estimators=100, n_jobs=8,\n",
       "             num_parallel_tree=1, predictor='auto', random_state=0, reg_alpha=0,\n",
       "             reg_lambda=1, scale_pos_weight=1, subsample=1, tree_method='exact',\n",
       "             validate_parameters=1, verbosity=None)"
      ]
     },
     "execution_count": 49,
     "metadata": {},
     "output_type": "execute_result"
    }
   ],
   "source": [
    "model_xg.fit(x_train,y_train)"
   ]
  },
  {
   "cell_type": "code",
   "execution_count": 50,
   "id": "171a855a",
   "metadata": {},
   "outputs": [],
   "source": [
    "y_pred=model_xg.predict(x_test)"
   ]
  },
  {
   "cell_type": "code",
   "execution_count": 51,
   "id": "c7931171",
   "metadata": {},
   "outputs": [],
   "source": [
    "from sklearn.metrics import r2_score"
   ]
  },
  {
   "cell_type": "code",
   "execution_count": 52,
   "id": "7f70b064",
   "metadata": {},
   "outputs": [
    {
     "data": {
      "text/plain": [
       "0.945143398119397"
      ]
     },
     "execution_count": 52,
     "metadata": {},
     "output_type": "execute_result"
    }
   ],
   "source": [
    "r2_score(y_test,y_pred)"
   ]
  },
  {
   "cell_type": "code",
   "execution_count": 53,
   "id": "5698b129",
   "metadata": {},
   "outputs": [],
   "source": [
    "import pickle"
   ]
  },
  {
   "cell_type": "code",
   "execution_count": 54,
   "id": "f2daefcf",
   "metadata": {},
   "outputs": [],
   "source": [
    "filename=('model_credit.sav')"
   ]
  },
  {
   "cell_type": "code",
   "execution_count": 55,
   "id": "8cf9254b",
   "metadata": {},
   "outputs": [],
   "source": [
    "pickle.dump(model_xg,open(filename,'wb'))"
   ]
  },
  {
   "cell_type": "code",
   "execution_count": 56,
   "id": "5fdc3499",
   "metadata": {},
   "outputs": [],
   "source": [
    "load_model=pickle.load(open(filename,'rb'))"
   ]
  },
  {
   "cell_type": "code",
   "execution_count": 57,
   "id": "3b14a8fb",
   "metadata": {},
   "outputs": [
    {
     "data": {
      "text/plain": [
       "0.945143398119397"
      ]
     },
     "execution_count": 57,
     "metadata": {},
     "output_type": "execute_result"
    }
   ],
   "source": [
    "load_model.score(x_test,y_test)"
   ]
  },
  {
   "cell_type": "code",
   "execution_count": 33,
   "id": "2c3c940d",
   "metadata": {},
   "outputs": [],
   "source": [
    "### values"
   ]
  },
  {
   "cell_type": "code",
   "execution_count": 34,
   "id": "22ca9747",
   "metadata": {},
   "outputs": [],
   "source": [
    "### Income normal_dist, Mean and Std\n",
    "\n",
    "# 1. -0.20280658936585644\n",
    "# 2. 0.4901766534406379\n",
    "# 3. 0.06735802053503631"
   ]
  },
  {
   "cell_type": "code",
   "execution_count": 35,
   "id": "a0202835",
   "metadata": {},
   "outputs": [],
   "source": [
    "### Limit normal_dist, Mean and Std\n",
    "\n",
    "# 1. 0.39614936118102145\n",
    "# 2. 27.74271074744698\n",
    "# 3. 5.585085279010829"
   ]
  },
  {
   "cell_type": "code",
   "execution_count": 36,
   "id": "6cd556d5",
   "metadata": {},
   "outputs": [],
   "source": [
    "### Rating normal_dist, Mean and Std\n",
    "\n",
    "# 1. 0.26853943981127637\n",
    "# 2. 4.749713648307949\n",
    "# 3. 0.5672648658390562"
   ]
  },
  {
   "cell_type": "code",
   "execution_count": 37,
   "id": "f4a14f69",
   "metadata": {},
   "outputs": [],
   "source": [
    "### Cards Mean and Std\n",
    "\n",
    "# 1. 2.9575\n",
    "# 2. 1.371274858240354"
   ]
  },
  {
   "cell_type": "code",
   "execution_count": null,
   "id": "3639aaea",
   "metadata": {},
   "outputs": [],
   "source": []
  }
 ],
 "metadata": {
  "kernelspec": {
   "display_name": "Python 3",
   "language": "python",
   "name": "python3"
  },
  "language_info": {
   "codemirror_mode": {
    "name": "ipython",
    "version": 3
   },
   "file_extension": ".py",
   "mimetype": "text/x-python",
   "name": "python",
   "nbconvert_exporter": "python",
   "pygments_lexer": "ipython3",
   "version": "3.8.8"
  }
 },
 "nbformat": 4,
 "nbformat_minor": 5
}
